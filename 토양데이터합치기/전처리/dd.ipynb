{
 "cells": [
  {
   "cell_type": "code",
   "execution_count": null,
   "metadata": {},
   "outputs": [],
   "source": [
    "sns.kdeplot(pocheon_hard, color='brown', fill=True) \n",
    "plt.title('포천의 경도 분포')\n",
    "plt.xlabel('경도')\n",
    "plt.ylabel('분포 확률')\n",
    "plt.show()\n",
    "\n",
    "sns.kdeplot(pocheon_sugar, color='yellow', fill=True) \n",
    "plt.title('포천의 당도 분포')\n",
    "plt.xlabel('당도')\n",
    "plt.ylabel('분포 확률')\n",
    "plt.show()\n",
    "\n",
    "sns.kdeplot(pocheon_acid, color='pink', fill=True) \n",
    "plt.title('포천의 산도 분포')\n",
    "plt.xlabel('산도')\n",
    "plt.ylabel('분포 확률')\n",
    "plt.show()"
   ]
  }
 ],
 "metadata": {
  "language_info": {
   "name": "python"
  }
 },
 "nbformat": 4,
 "nbformat_minor": 2
}
