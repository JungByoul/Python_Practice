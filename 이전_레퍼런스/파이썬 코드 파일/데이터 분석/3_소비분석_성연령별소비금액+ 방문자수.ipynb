{
 "cells": [
  {
   "cell_type": "code",
   "execution_count": 32,
   "id": "601a65cb",
   "metadata": {},
   "outputs": [],
   "source": [
    "import numpy as np\n",
    "import pandas as pd"
   ]
  },
  {
   "cell_type": "code",
   "execution_count": 33,
   "id": "843deecb",
   "metadata": {},
   "outputs": [],
   "source": [
    "# 양양군_성연령별 방문자수\n",
    "df1=pd.read_csv(\"C:\\\\Users\\\\pc\\\\Downloads\\\\양양군_데이터\\\\양양군_연령별방문자.csv\")\n",
    "\n",
    "# 양양군_성연령별 소비금액\n",
    "df2 = pd.read_csv(\"C:\\\\Users\\\\pc\\\\Downloads\\\\양양군_데이터\\\\전처리_완료폴더\\\\성연령별_소비금액_전처리.csv\")\n"
   ]
  },
  {
   "cell_type": "code",
   "execution_count": 3,
   "id": "ce806ac9",
   "metadata": {
    "scrolled": false
   },
   "outputs": [
    {
     "data": {
      "text/html": [
       "<div>\n",
       "<style scoped>\n",
       "    .dataframe tbody tr th:only-of-type {\n",
       "        vertical-align: middle;\n",
       "    }\n",
       "\n",
       "    .dataframe tbody tr th {\n",
       "        vertical-align: top;\n",
       "    }\n",
       "\n",
       "    .dataframe thead th {\n",
       "        text-align: right;\n",
       "    }\n",
       "</style>\n",
       "<table border=\"1\" class=\"dataframe\">\n",
       "  <thead>\n",
       "    <tr style=\"text-align: right;\">\n",
       "      <th></th>\n",
       "      <th>Unnamed: 0</th>\n",
       "      <th>방문자 연령</th>\n",
       "      <th>남성방문자</th>\n",
       "      <th>여성방문자</th>\n",
       "    </tr>\n",
       "  </thead>\n",
       "  <tbody>\n",
       "    <tr>\n",
       "      <th>0</th>\n",
       "      <td>0</td>\n",
       "      <td>60대 이상</td>\n",
       "      <td>178496336</td>\n",
       "      <td>148185636</td>\n",
       "    </tr>\n",
       "    <tr>\n",
       "      <th>1</th>\n",
       "      <td>1</td>\n",
       "      <td>50~59세</td>\n",
       "      <td>186915974</td>\n",
       "      <td>154921348</td>\n",
       "    </tr>\n",
       "    <tr>\n",
       "      <th>2</th>\n",
       "      <td>2</td>\n",
       "      <td>40~49세</td>\n",
       "      <td>175128480</td>\n",
       "      <td>136398143</td>\n",
       "    </tr>\n",
       "    <tr>\n",
       "      <th>3</th>\n",
       "      <td>3</td>\n",
       "      <td>30~39세</td>\n",
       "      <td>163340986</td>\n",
       "      <td>144817782</td>\n",
       "    </tr>\n",
       "    <tr>\n",
       "      <th>4</th>\n",
       "      <td>4</td>\n",
       "      <td>20대 이하</td>\n",
       "      <td>203755251</td>\n",
       "      <td>190283829</td>\n",
       "    </tr>\n",
       "  </tbody>\n",
       "</table>\n",
       "</div>"
      ],
      "text/plain": [
       "   Unnamed: 0  방문자 연령      남성방문자      여성방문자\n",
       "0           0  60대 이상  178496336  148185636\n",
       "1           1  50~59세  186915974  154921348\n",
       "2           2  40~49세  175128480  136398143\n",
       "3           3  30~39세  163340986  144817782\n",
       "4           4  20대 이하  203755251  190283829"
      ]
     },
     "execution_count": 3,
     "metadata": {},
     "output_type": "execute_result"
    }
   ],
   "source": [
    "df1"
   ]
  },
  {
   "cell_type": "code",
   "execution_count": 37,
   "id": "b85126a2",
   "metadata": {},
   "outputs": [
    {
     "data": {
      "text/html": [
       "<div>\n",
       "<style scoped>\n",
       "    .dataframe tbody tr th:only-of-type {\n",
       "        vertical-align: middle;\n",
       "    }\n",
       "\n",
       "    .dataframe tbody tr th {\n",
       "        vertical-align: top;\n",
       "    }\n",
       "\n",
       "    .dataframe thead th {\n",
       "        text-align: right;\n",
       "    }\n",
       "</style>\n",
       "<table border=\"1\" class=\"dataframe\">\n",
       "  <thead>\n",
       "    <tr style=\"text-align: right;\">\n",
       "      <th></th>\n",
       "      <th>Unnamed: 0</th>\n",
       "      <th>방문자 연령</th>\n",
       "      <th>남성방문자</th>\n",
       "      <th>여성방문자</th>\n",
       "    </tr>\n",
       "  </thead>\n",
       "  <tbody>\n",
       "    <tr>\n",
       "      <th>4</th>\n",
       "      <td>4</td>\n",
       "      <td>20대 이하</td>\n",
       "      <td>203755251</td>\n",
       "      <td>190283829</td>\n",
       "    </tr>\n",
       "    <tr>\n",
       "      <th>3</th>\n",
       "      <td>3</td>\n",
       "      <td>30~39세</td>\n",
       "      <td>163340986</td>\n",
       "      <td>144817782</td>\n",
       "    </tr>\n",
       "    <tr>\n",
       "      <th>2</th>\n",
       "      <td>2</td>\n",
       "      <td>40~49세</td>\n",
       "      <td>175128480</td>\n",
       "      <td>136398143</td>\n",
       "    </tr>\n",
       "    <tr>\n",
       "      <th>1</th>\n",
       "      <td>1</td>\n",
       "      <td>50~59세</td>\n",
       "      <td>186915974</td>\n",
       "      <td>154921348</td>\n",
       "    </tr>\n",
       "    <tr>\n",
       "      <th>0</th>\n",
       "      <td>0</td>\n",
       "      <td>60대 이상</td>\n",
       "      <td>178496336</td>\n",
       "      <td>148185636</td>\n",
       "    </tr>\n",
       "  </tbody>\n",
       "</table>\n",
       "</div>"
      ],
      "text/plain": [
       "   Unnamed: 0  방문자 연령      남성방문자      여성방문자\n",
       "4           4  20대 이하  203755251  190283829\n",
       "3           3  30~39세  163340986  144817782\n",
       "2           2  40~49세  175128480  136398143\n",
       "1           1  50~59세  186915974  154921348\n",
       "0           0  60대 이상  178496336  148185636"
      ]
     },
     "execution_count": 37,
     "metadata": {},
     "output_type": "execute_result"
    }
   ],
   "source": [
    "df1.sort_index(ascending = False)"
   ]
  },
  {
   "cell_type": "code",
   "execution_count": 4,
   "id": "faf364ba",
   "metadata": {},
   "outputs": [
    {
     "data": {
      "text/html": [
       "<div>\n",
       "<style scoped>\n",
       "    .dataframe tbody tr th:only-of-type {\n",
       "        vertical-align: middle;\n",
       "    }\n",
       "\n",
       "    .dataframe tbody tr th {\n",
       "        vertical-align: top;\n",
       "    }\n",
       "\n",
       "    .dataframe thead th {\n",
       "        text-align: right;\n",
       "    }\n",
       "</style>\n",
       "<table border=\"1\" class=\"dataframe\">\n",
       "  <thead>\n",
       "    <tr style=\"text-align: right;\">\n",
       "      <th></th>\n",
       "      <th>방문자 연령</th>\n",
       "      <th>남성방문자</th>\n",
       "      <th>여성방문자</th>\n",
       "    </tr>\n",
       "  </thead>\n",
       "  <tbody>\n",
       "    <tr>\n",
       "      <th>0</th>\n",
       "      <td>60대 이상</td>\n",
       "      <td>178496336</td>\n",
       "      <td>148185636</td>\n",
       "    </tr>\n",
       "    <tr>\n",
       "      <th>1</th>\n",
       "      <td>50~59세</td>\n",
       "      <td>186915974</td>\n",
       "      <td>154921348</td>\n",
       "    </tr>\n",
       "    <tr>\n",
       "      <th>2</th>\n",
       "      <td>40~49세</td>\n",
       "      <td>175128480</td>\n",
       "      <td>136398143</td>\n",
       "    </tr>\n",
       "    <tr>\n",
       "      <th>3</th>\n",
       "      <td>30~39세</td>\n",
       "      <td>163340986</td>\n",
       "      <td>144817782</td>\n",
       "    </tr>\n",
       "    <tr>\n",
       "      <th>4</th>\n",
       "      <td>20대 이하</td>\n",
       "      <td>203755251</td>\n",
       "      <td>190283829</td>\n",
       "    </tr>\n",
       "  </tbody>\n",
       "</table>\n",
       "</div>"
      ],
      "text/plain": [
       "   방문자 연령      남성방문자      여성방문자\n",
       "0  60대 이상  178496336  148185636\n",
       "1  50~59세  186915974  154921348\n",
       "2  40~49세  175128480  136398143\n",
       "3  30~39세  163340986  144817782\n",
       "4  20대 이하  203755251  190283829"
      ]
     },
     "execution_count": 4,
     "metadata": {},
     "output_type": "execute_result"
    }
   ],
   "source": [
    "df1=df1.drop(df1.columns[0], axis=1)\n",
    "df1"
   ]
  },
  {
   "cell_type": "code",
   "execution_count": 5,
   "id": "9e37f477",
   "metadata": {},
   "outputs": [
    {
     "data": {
      "text/html": [
       "<div>\n",
       "<style scoped>\n",
       "    .dataframe tbody tr th:only-of-type {\n",
       "        vertical-align: middle;\n",
       "    }\n",
       "\n",
       "    .dataframe tbody tr th {\n",
       "        vertical-align: top;\n",
       "    }\n",
       "\n",
       "    .dataframe thead th {\n",
       "        text-align: right;\n",
       "    }\n",
       "</style>\n",
       "<table border=\"1\" class=\"dataframe\">\n",
       "  <thead>\n",
       "    <tr style=\"text-align: right;\">\n",
       "      <th></th>\n",
       "      <th>연령대</th>\n",
       "      <th>남성_소비금액</th>\n",
       "      <th>여성_소비금액</th>\n",
       "    </tr>\n",
       "  </thead>\n",
       "  <tbody>\n",
       "    <tr>\n",
       "      <th>0</th>\n",
       "      <td>20대 이하</td>\n",
       "      <td>176000000</td>\n",
       "      <td>183000000</td>\n",
       "    </tr>\n",
       "    <tr>\n",
       "      <th>1</th>\n",
       "      <td>30대</td>\n",
       "      <td>468000000</td>\n",
       "      <td>396000000</td>\n",
       "    </tr>\n",
       "    <tr>\n",
       "      <th>2</th>\n",
       "      <td>40대</td>\n",
       "      <td>742000000</td>\n",
       "      <td>410000000</td>\n",
       "    </tr>\n",
       "    <tr>\n",
       "      <th>3</th>\n",
       "      <td>50대</td>\n",
       "      <td>858000000</td>\n",
       "      <td>482000000</td>\n",
       "    </tr>\n",
       "    <tr>\n",
       "      <th>4</th>\n",
       "      <td>60대 이상</td>\n",
       "      <td>1080000000</td>\n",
       "      <td>545000000</td>\n",
       "    </tr>\n",
       "  </tbody>\n",
       "</table>\n",
       "</div>"
      ],
      "text/plain": [
       "      연령대     남성_소비금액    여성_소비금액\n",
       "0  20대 이하   176000000  183000000\n",
       "1     30대   468000000  396000000\n",
       "2     40대   742000000  410000000\n",
       "3     50대   858000000  482000000\n",
       "4  60대 이상  1080000000  545000000"
      ]
     },
     "execution_count": 5,
     "metadata": {},
     "output_type": "execute_result"
    }
   ],
   "source": [
    "df2=df2.drop(df2.columns[0], axis=1)\n",
    "df2"
   ]
  },
  {
   "cell_type": "code",
   "execution_count": 6,
   "id": "b148f2e3",
   "metadata": {},
   "outputs": [
    {
     "data": {
      "text/html": [
       "<div>\n",
       "<style scoped>\n",
       "    .dataframe tbody tr th:only-of-type {\n",
       "        vertical-align: middle;\n",
       "    }\n",
       "\n",
       "    .dataframe tbody tr th {\n",
       "        vertical-align: top;\n",
       "    }\n",
       "\n",
       "    .dataframe thead th {\n",
       "        text-align: right;\n",
       "    }\n",
       "</style>\n",
       "<table border=\"1\" class=\"dataframe\">\n",
       "  <thead>\n",
       "    <tr style=\"text-align: right;\">\n",
       "      <th></th>\n",
       "      <th>방문자 연령</th>\n",
       "      <th>남성방문자</th>\n",
       "      <th>여성방문자</th>\n",
       "    </tr>\n",
       "  </thead>\n",
       "  <tbody>\n",
       "    <tr>\n",
       "      <th>0</th>\n",
       "      <td>20대 이하</td>\n",
       "      <td>203755251</td>\n",
       "      <td>190283829</td>\n",
       "    </tr>\n",
       "    <tr>\n",
       "      <th>1</th>\n",
       "      <td>30~39세</td>\n",
       "      <td>163340986</td>\n",
       "      <td>144817782</td>\n",
       "    </tr>\n",
       "    <tr>\n",
       "      <th>2</th>\n",
       "      <td>40~49세</td>\n",
       "      <td>175128480</td>\n",
       "      <td>136398143</td>\n",
       "    </tr>\n",
       "    <tr>\n",
       "      <th>3</th>\n",
       "      <td>50~59세</td>\n",
       "      <td>186915974</td>\n",
       "      <td>154921348</td>\n",
       "    </tr>\n",
       "    <tr>\n",
       "      <th>4</th>\n",
       "      <td>60대 이상</td>\n",
       "      <td>178496336</td>\n",
       "      <td>148185636</td>\n",
       "    </tr>\n",
       "  </tbody>\n",
       "</table>\n",
       "</div>"
      ],
      "text/plain": [
       "   방문자 연령      남성방문자      여성방문자\n",
       "0  20대 이하  203755251  190283829\n",
       "1  30~39세  163340986  144817782\n",
       "2  40~49세  175128480  136398143\n",
       "3  50~59세  186915974  154921348\n",
       "4  60대 이상  178496336  148185636"
      ]
     },
     "execution_count": 6,
     "metadata": {},
     "output_type": "execute_result"
    }
   ],
   "source": [
    "df1=df1.sort_index(ascending=False).reset_index(drop=True)\n",
    "df1"
   ]
  },
  {
   "cell_type": "code",
   "execution_count": 7,
   "id": "17436dba",
   "metadata": {},
   "outputs": [],
   "source": [
    "\n",
    "import numpy as np\n",
    "import pandas as pd\n",
    "import matplotlib as mpl\n",
    "import matplotlib.pyplot as plt\n",
    "import seaborn as sns"
   ]
  },
  {
   "cell_type": "code",
   "execution_count": 20,
   "id": "99edf343",
   "metadata": {},
   "outputs": [
    {
     "data": {
      "image/png": "[encoded data removed]",
      "text/plain": [
       "<Figure size 720x360 with 1 Axes>"
      ]
     },
     "metadata": {
      "needs_background": "light"
     },
     "output_type": "display_data"
    }
   ],
   "source": [
    "# 성연령 방문자별 소비금액추이\n",
    "plt.figure(figsize = (10,5))\n",
    "plt.title(\"남성방문자\")\n",
    "plt.bar(df1['방문자 연령'],df1['남성방문자'])\n",
    "plt.show()"
   ]
  },
  {
   "cell_type": "code",
   "execution_count": null,
   "id": "e0f6c5fd",
   "metadata": {
    "scrolled": true
   },
   "outputs": [],
   "source": []
  },
  {
   "cell_type": "code",
   "execution_count": null,
   "id": "01e969c0",
   "metadata": {},
   "outputs": [],
   "source": []
  },
  {
   "cell_type": "code",
   "execution_count": 11,
   "id": "e3fc526c",
   "metadata": {},
   "outputs": [
    {
     "data": {
      "image/png": "[encoded data removed]",
      "text/plain": [
       "<Figure size 720x720 with 1 Axes>"
      ]
     },
     "metadata": {
      "needs_background": "light"
     },
     "output_type": "display_data"
    }
   ],
   "source": [
    "x = np.arange(5)\n",
    "bar_width = 0.35 \n",
    "plt.figure(figsize=(10, 10))\n",
    "plt.bar(x, df1['여성방문자'], width=bar_width, label='여자') \n",
    "plt.bar(x + bar_width, df1['남성방문자'], width=bar_width, label='남자')\n",
    "           \n",
    "plt.xticks(x + bar_width/2,df1['방문자 연령'])                  \n",
    "\n",
    "plt.title(\"양양군_방문자수\", fontsize=20)\n",
    "plt.ylabel('방문자수',fontsize=14)\n",
    "plt.legend(loc='upper right', fontsize=12)\n",
    "#plt.show()\n",
    "plt.savefig('savefig_vis.png', dpi=200)"
   ]
  },
  {
   "cell_type": "code",
   "execution_count": 26,
   "id": "d3c5c8eb",
   "metadata": {
    "scrolled": false
   },
   "outputs": [
    {
     "data": {
      "image/png": "[encoded data removed]",
      "text/plain": [
       "<Figure size 864x720 with 1 Axes>"
      ]
     },
     "metadata": {
      "needs_background": "light"
     },
     "output_type": "display_data"
    }
   ],
   "source": [
    "x = np.arange(5)\n",
    "bar_width = 0.35 \n",
    "plt.figure(figsize=(12, 10))\n",
    "plt.bar(x + bar_width, df1['남성방문자'], width=bar_width, label='남자')\n",
    "plt.bar(x, df1['여성방문자'], width=bar_width, label='여자')            \n",
    "plt.xticks(x + bar_width/2,df1['방문자 연령'], fontsize=15)                  \n",
    "plt.yticks( fontsize=15)\n",
    "plt.title(\"양양군_방문자수\", fontsize=25)\n",
    "plt.ylabel('방문자수',fontsize=17)\n",
    "plt.xlabel('방문자 연령',fontsize=17)\n",
    "plt.legend(loc='upper right', fontsize=12)\n",
    "#plt.show()\n",
    "plt.savefig('savefig_vis.png', dpi=200)"
   ]
  },
  {
   "cell_type": "code",
   "execution_count": 61,
   "id": "ce3c6e0c",
   "metadata": {},
   "outputs": [
    {
     "data": {
      "text/html": [
       "<div>\n",
       "<style scoped>\n",
       "    .dataframe tbody tr th:only-of-type {\n",
       "        vertical-align: middle;\n",
       "    }\n",
       "\n",
       "    .dataframe tbody tr th {\n",
       "        vertical-align: top;\n",
       "    }\n",
       "\n",
       "    .dataframe thead th {\n",
       "        text-align: right;\n",
       "    }\n",
       "</style>\n",
       "<table border=\"1\" class=\"dataframe\">\n",
       "  <thead>\n",
       "    <tr style=\"text-align: right;\">\n",
       "      <th></th>\n",
       "      <th>연령대</th>\n",
       "      <th>남성_소비금액</th>\n",
       "      <th>여성_소비금액</th>\n",
       "    </tr>\n",
       "  </thead>\n",
       "  <tbody>\n",
       "    <tr>\n",
       "      <th>0</th>\n",
       "      <td>20대 이하</td>\n",
       "      <td>176000000</td>\n",
       "      <td>183000000</td>\n",
       "    </tr>\n",
       "    <tr>\n",
       "      <th>1</th>\n",
       "      <td>30대</td>\n",
       "      <td>468000000</td>\n",
       "      <td>396000000</td>\n",
       "    </tr>\n",
       "    <tr>\n",
       "      <th>2</th>\n",
       "      <td>40대</td>\n",
       "      <td>742000000</td>\n",
       "      <td>410000000</td>\n",
       "    </tr>\n",
       "    <tr>\n",
       "      <th>3</th>\n",
       "      <td>50대</td>\n",
       "      <td>858000000</td>\n",
       "      <td>482000000</td>\n",
       "    </tr>\n",
       "    <tr>\n",
       "      <th>4</th>\n",
       "      <td>60대 이상</td>\n",
       "      <td>1080000000</td>\n",
       "      <td>545000000</td>\n",
       "    </tr>\n",
       "  </tbody>\n",
       "</table>\n",
       "</div>"
      ],
      "text/plain": [
       "      연령대     남성_소비금액    여성_소비금액\n",
       "0  20대 이하   176000000  183000000\n",
       "1     30대   468000000  396000000\n",
       "2     40대   742000000  410000000\n",
       "3     50대   858000000  482000000\n",
       "4  60대 이상  1080000000  545000000"
      ]
     },
     "execution_count": 61,
     "metadata": {},
     "output_type": "execute_result"
    }
   ],
   "source": [
    "df2"
   ]
  },
  {
   "cell_type": "code",
   "execution_count": 31,
   "id": "67598eed",
   "metadata": {
    "scrolled": true
   },
   "outputs": [
    {
     "data": {
      "image/png": "[encoded data removed]",
      "text/plain": [
       "<Figure size 864x720 with 1 Axes>"
      ]
     },
     "metadata": {
      "needs_background": "light"
     },
     "output_type": "display_data"
    }
   ],
   "source": [
    "x = np.arange(5)\n",
    "bar_width = 0.35 \n",
    "plt.figure(figsize=(12, 10))\n",
    "\n",
    "plt.bar(x + bar_width, df2['남성_소비금액'], width=bar_width, label='남자')\n",
    "plt.bar(x, df2['여성_소비금액'], width=bar_width, label='여자')     \n",
    "\n",
    "plt.xticks(x + bar_width/2,df2['연령대'], fontsize=15)                  \n",
    "plt.yticks( fontsize=15)\n",
    "\n",
    "plt.title(\"양양군_성연령별_소비금액\", fontsize=25)\n",
    "\n",
    "plt.ylabel('소비금액',fontsize=17)\n",
    "plt.xlabel('방문자 연령',fontsize=17)\n",
    "\n",
    "plt.legend(loc='upper right', fontsize=12)\n",
    "\n",
    "#plt.show()\n",
    "plt.savefig('savefig_amount.png', dpi=200)"
   ]
  },
  {
   "cell_type": "code",
   "execution_count": null,
   "id": "2f9681e9",
   "metadata": {},
   "outputs": [],
   "source": []
  }
 ],
 "metadata": {
  "kernelspec": {
   "display_name": "Python 3 (ipykernel)",
   "language": "python",
   "name": "python3"
  },
  "language_info": {
   "codemirror_mode": {
    "name": "ipython",
    "version": 3
   },
   "file_extension": ".py",
   "mimetype": "text/x-python",
   "name": "python",
   "nbconvert_exporter": "python",
   "pygments_lexer": "ipython3",
   "version": "3.9.7"
  }
 },
 "nbformat": 4,
 "nbformat_minor": 5
}
