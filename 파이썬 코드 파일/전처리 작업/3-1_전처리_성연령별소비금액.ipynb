{
 "cells": [
  {
   "cell_type": "code",
   "execution_count": 1,
   "id": "ceb9d1e1",
   "metadata": {},
   "outputs": [],
   "source": [
    "import numpy as np\n",
    "import pandas as pd"
   ]
  },
  {
   "cell_type": "code",
   "execution_count": 2,
   "id": "85233dc0",
   "metadata": {},
   "outputs": [],
   "source": [
    "# 인코딩 변환 방식 utf-8, utf-16, euc-kr,cp949\n",
    "df = pd.read_csv(\"C:\\\\Users\\\\pc\\\\Downloads\\\\양양군_데이터\\\\2022년_1월-12월\\\\성연령별_소비금액.csv\",encoding='utf-16')"
   ]
  },
  {
   "cell_type": "code",
   "execution_count": 3,
   "id": "59ff338e",
   "metadata": {},
   "outputs": [
    {
     "data": {
      "text/html": [
       "<div>\n",
       "<style scoped>\n",
       "    .dataframe tbody tr th:only-of-type {\n",
       "        vertical-align: middle;\n",
       "    }\n",
       "\n",
       "    .dataframe tbody tr th {\n",
       "        vertical-align: top;\n",
       "    }\n",
       "\n",
       "    .dataframe thead th {\n",
       "        text-align: right;\n",
       "    }\n",
       "</style>\n",
       "<table border=\"1\" class=\"dataframe\">\n",
       "  <thead>\n",
       "    <tr style=\"text-align: right;\">\n",
       "      <th></th>\n",
       "      <th>성별</th>\n",
       "      <th>남성</th>\n",
       "      <th>여성</th>\n",
       "    </tr>\n",
       "  </thead>\n",
       "  <tbody>\n",
       "    <tr>\n",
       "      <th>0</th>\n",
       "      <td>연령대</td>\n",
       "      <td>소비금액</td>\n",
       "      <td>소비금액</td>\n",
       "    </tr>\n",
       "    <tr>\n",
       "      <th>1</th>\n",
       "      <td>20대 이하</td>\n",
       "      <td>176백만</td>\n",
       "      <td>183백만</td>\n",
       "    </tr>\n",
       "    <tr>\n",
       "      <th>2</th>\n",
       "      <td>30대</td>\n",
       "      <td>468백만</td>\n",
       "      <td>396백만</td>\n",
       "    </tr>\n",
       "    <tr>\n",
       "      <th>3</th>\n",
       "      <td>40대</td>\n",
       "      <td>742백만</td>\n",
       "      <td>410백만</td>\n",
       "    </tr>\n",
       "    <tr>\n",
       "      <th>4</th>\n",
       "      <td>50대</td>\n",
       "      <td>858백만</td>\n",
       "      <td>482백만</td>\n",
       "    </tr>\n",
       "    <tr>\n",
       "      <th>5</th>\n",
       "      <td>60대 이상</td>\n",
       "      <td>1,080백만</td>\n",
       "      <td>545백만</td>\n",
       "    </tr>\n",
       "  </tbody>\n",
       "</table>\n",
       "</div>"
      ],
      "text/plain": [
       "       성별       남성     여성\n",
       "0     연령대     소비금액   소비금액\n",
       "1  20대 이하    176백만  183백만\n",
       "2     30대    468백만  396백만\n",
       "3     40대    742백만  410백만\n",
       "4     50대    858백만  482백만\n",
       "5  60대 이상  1,080백만  545백만"
      ]
     },
     "execution_count": 3,
     "metadata": {},
     "output_type": "execute_result"
    }
   ],
   "source": [
    "df \n"
   ]
  },
  {
   "cell_type": "code",
   "execution_count": 4,
   "id": "012036bb",
   "metadata": {},
   "outputs": [
    {
     "data": {
      "text/html": [
       "<div>\n",
       "<style scoped>\n",
       "    .dataframe tbody tr th:only-of-type {\n",
       "        vertical-align: middle;\n",
       "    }\n",
       "\n",
       "    .dataframe tbody tr th {\n",
       "        vertical-align: top;\n",
       "    }\n",
       "\n",
       "    .dataframe thead th {\n",
       "        text-align: right;\n",
       "    }\n",
       "</style>\n",
       "<table border=\"1\" class=\"dataframe\">\n",
       "  <thead>\n",
       "    <tr style=\"text-align: right;\">\n",
       "      <th></th>\n",
       "      <th>연령대</th>\n",
       "      <th>소비금액</th>\n",
       "      <th>소비금액</th>\n",
       "    </tr>\n",
       "  </thead>\n",
       "  <tbody>\n",
       "    <tr>\n",
       "      <th>1</th>\n",
       "      <td>20대 이하</td>\n",
       "      <td>176백만</td>\n",
       "      <td>183백만</td>\n",
       "    </tr>\n",
       "    <tr>\n",
       "      <th>2</th>\n",
       "      <td>30대</td>\n",
       "      <td>468백만</td>\n",
       "      <td>396백만</td>\n",
       "    </tr>\n",
       "    <tr>\n",
       "      <th>3</th>\n",
       "      <td>40대</td>\n",
       "      <td>742백만</td>\n",
       "      <td>410백만</td>\n",
       "    </tr>\n",
       "    <tr>\n",
       "      <th>4</th>\n",
       "      <td>50대</td>\n",
       "      <td>858백만</td>\n",
       "      <td>482백만</td>\n",
       "    </tr>\n",
       "    <tr>\n",
       "      <th>5</th>\n",
       "      <td>60대 이상</td>\n",
       "      <td>1,080백만</td>\n",
       "      <td>545백만</td>\n",
       "    </tr>\n",
       "  </tbody>\n",
       "</table>\n",
       "</div>"
      ],
      "text/plain": [
       "0     연령대     소비금액   소비금액\n",
       "1  20대 이하    176백만  183백만\n",
       "2     30대    468백만  396백만\n",
       "3     40대    742백만  410백만\n",
       "4     50대    858백만  482백만\n",
       "5  60대 이상  1,080백만  545백만"
      ]
     },
     "execution_count": 4,
     "metadata": {},
     "output_type": "execute_result"
    }
   ],
   "source": [
    "# 첫번째 행에 우리가 원하는 컬럼이 들어가있으므로 \n",
    "# 첫번째 행을 컬럼으로 만들기 \n",
    "\n",
    "# 첫 행을 변수에 넣어두고\n",
    "new_header= df.iloc[0]\n",
    "\n",
    "# 첫번째 행을 제외한 내용을 슬라이싱방법을 이용하여 잘라냄\n",
    "df = df[1:]\n",
    "\n",
    "# 그후 첫행을 df의 컬럼으로 지정\n",
    "df.columns = new_header\n",
    "\n",
    "#df 표시\n",
    "df\n"
   ]
  },
  {
   "cell_type": "code",
   "execution_count": 5,
   "id": "7cc612c9",
   "metadata": {},
   "outputs": [
    {
     "name": "stdout",
     "output_type": "stream",
     "text": [
      "<class 'pandas.core.frame.DataFrame'>\n",
      "RangeIndex: 5 entries, 1 to 5\n",
      "Data columns (total 3 columns):\n",
      " #   Column  Non-Null Count  Dtype \n",
      "---  ------  --------------  ----- \n",
      " 0   연령대     5 non-null      object\n",
      " 1   소비금액    5 non-null      object\n",
      " 2   소비금액    5 non-null      object\n",
      "dtypes: object(3)\n",
      "memory usage: 252.0+ bytes\n"
     ]
    }
   ],
   "source": [
    "# df 정보보기\n",
    "# 컬럼이 연령대, 소비금액, 소비금액으로 이루어져 있는걸 볼수있음\n",
    "df.info()"
   ]
  },
  {
   "cell_type": "code",
   "execution_count": 6,
   "id": "98e5106e",
   "metadata": {},
   "outputs": [
    {
     "data": {
      "text/html": [
       "<div>\n",
       "<style scoped>\n",
       "    .dataframe tbody tr th:only-of-type {\n",
       "        vertical-align: middle;\n",
       "    }\n",
       "\n",
       "    .dataframe tbody tr th {\n",
       "        vertical-align: top;\n",
       "    }\n",
       "\n",
       "    .dataframe thead th {\n",
       "        text-align: right;\n",
       "    }\n",
       "</style>\n",
       "<table border=\"1\" class=\"dataframe\">\n",
       "  <thead>\n",
       "    <tr style=\"text-align: right;\">\n",
       "      <th></th>\n",
       "      <th>연령대</th>\n",
       "      <th>남성_소비금액</th>\n",
       "      <th>여성_소비금액</th>\n",
       "    </tr>\n",
       "  </thead>\n",
       "  <tbody>\n",
       "    <tr>\n",
       "      <th>1</th>\n",
       "      <td>20대 이하</td>\n",
       "      <td>176백만</td>\n",
       "      <td>183백만</td>\n",
       "    </tr>\n",
       "    <tr>\n",
       "      <th>2</th>\n",
       "      <td>30대</td>\n",
       "      <td>468백만</td>\n",
       "      <td>396백만</td>\n",
       "    </tr>\n",
       "    <tr>\n",
       "      <th>3</th>\n",
       "      <td>40대</td>\n",
       "      <td>742백만</td>\n",
       "      <td>410백만</td>\n",
       "    </tr>\n",
       "    <tr>\n",
       "      <th>4</th>\n",
       "      <td>50대</td>\n",
       "      <td>858백만</td>\n",
       "      <td>482백만</td>\n",
       "    </tr>\n",
       "    <tr>\n",
       "      <th>5</th>\n",
       "      <td>60대 이상</td>\n",
       "      <td>1,080백만</td>\n",
       "      <td>545백만</td>\n",
       "    </tr>\n",
       "  </tbody>\n",
       "</table>\n",
       "</div>"
      ],
      "text/plain": [
       "      연령대  남성_소비금액 여성_소비금액\n",
       "1  20대 이하    176백만   183백만\n",
       "2     30대    468백만   396백만\n",
       "3     40대    742백만   410백만\n",
       "4     50대    858백만   482백만\n",
       "5  60대 이상  1,080백만   545백만"
      ]
     },
     "execution_count": 6,
     "metadata": {},
     "output_type": "execute_result"
    }
   ],
   "source": [
    "# 남성, 여성 소비금액으로 열컬럼 변경 \n",
    "\n",
    "\n",
    "df.columns = ['연령대', '남성_소비금액', '여성_소비금액']\n",
    "df"
   ]
  },
  {
   "cell_type": "code",
   "execution_count": 7,
   "id": "43a75cae",
   "metadata": {},
   "outputs": [
    {
     "name": "stderr",
     "output_type": "stream",
     "text": [
      "C:\\Users\\pc\\anaconda3\\lib\\site-packages\\pandas\\core\\generic.py:5516: SettingWithCopyWarning: \n",
      "A value is trying to be set on a copy of a slice from a DataFrame.\n",
      "Try using .loc[row_indexer,col_indexer] = value instead\n",
      "\n",
      "See the caveats in the documentation: https://pandas.pydata.org/pandas-docs/stable/user_guide/indexing.html#returning-a-view-versus-a-copy\n",
      "  self[name] = value\n"
     ]
    },
    {
     "data": {
      "text/html": [
       "<div>\n",
       "<style scoped>\n",
       "    .dataframe tbody tr th:only-of-type {\n",
       "        vertical-align: middle;\n",
       "    }\n",
       "\n",
       "    .dataframe tbody tr th {\n",
       "        vertical-align: top;\n",
       "    }\n",
       "\n",
       "    .dataframe thead th {\n",
       "        text-align: right;\n",
       "    }\n",
       "</style>\n",
       "<table border=\"1\" class=\"dataframe\">\n",
       "  <thead>\n",
       "    <tr style=\"text-align: right;\">\n",
       "      <th></th>\n",
       "      <th>연령대</th>\n",
       "      <th>남성_소비금액</th>\n",
       "      <th>여성_소비금액</th>\n",
       "    </tr>\n",
       "  </thead>\n",
       "  <tbody>\n",
       "    <tr>\n",
       "      <th>1</th>\n",
       "      <td>20대 이하</td>\n",
       "      <td>176000000</td>\n",
       "      <td>183000000</td>\n",
       "    </tr>\n",
       "    <tr>\n",
       "      <th>2</th>\n",
       "      <td>30대</td>\n",
       "      <td>468000000</td>\n",
       "      <td>396000000</td>\n",
       "    </tr>\n",
       "    <tr>\n",
       "      <th>3</th>\n",
       "      <td>40대</td>\n",
       "      <td>742000000</td>\n",
       "      <td>410000000</td>\n",
       "    </tr>\n",
       "    <tr>\n",
       "      <th>4</th>\n",
       "      <td>50대</td>\n",
       "      <td>858000000</td>\n",
       "      <td>482000000</td>\n",
       "    </tr>\n",
       "    <tr>\n",
       "      <th>5</th>\n",
       "      <td>60대 이상</td>\n",
       "      <td>1080000000</td>\n",
       "      <td>545000000</td>\n",
       "    </tr>\n",
       "  </tbody>\n",
       "</table>\n",
       "</div>"
      ],
      "text/plain": [
       "      연령대     남성_소비금액    여성_소비금액\n",
       "1  20대 이하   176000000  183000000\n",
       "2     30대   468000000  396000000\n",
       "3     40대   742000000  410000000\n",
       "4     50대   858000000  482000000\n",
       "5  60대 이상  1080000000  545000000"
      ]
     },
     "execution_count": 7,
     "metadata": {},
     "output_type": "execute_result"
    }
   ],
   "source": [
    "\n",
    "# 소비금액의 값들의 백만을 숫자로 변경\n",
    "df.남성_소비금액 = df.남성_소비금액.str.replace('백만', '000000')\n",
    "df.남성_소비금액 = df.남성_소비금액.str.replace(',', '')\n",
    "df.여성_소비금액 = df.여성_소비금액.str.replace('백만', '000000')\n",
    "# 여성소비금액에는 콤마가 없으므로 \n",
    "# df.여성_소비금액 = df.여성_소비금액.str.replace(',', '')\n",
    "df"
   ]
  },
  {
   "cell_type": "code",
   "execution_count": 8,
   "id": "32f81f19",
   "metadata": {},
   "outputs": [
    {
     "name": "stdout",
     "output_type": "stream",
     "text": [
      "<class 'pandas.core.frame.DataFrame'>\n",
      "RangeIndex: 5 entries, 1 to 5\n",
      "Data columns (total 3 columns):\n",
      " #   Column   Non-Null Count  Dtype \n",
      "---  ------   --------------  ----- \n",
      " 0   연령대      5 non-null      object\n",
      " 1   남성_소비금액  5 non-null      object\n",
      " 2   여성_소비금액  5 non-null      object\n",
      "dtypes: object(3)\n",
      "memory usage: 252.0+ bytes\n"
     ]
    }
   ],
   "source": [
    "df.info()"
   ]
  },
  {
   "cell_type": "code",
   "execution_count": 13,
   "id": "aa83815a",
   "metadata": {
    "scrolled": false
   },
   "outputs": [
    {
     "name": "stderr",
     "output_type": "stream",
     "text": [
      "C:\\Users\\pc\\anaconda3\\lib\\site-packages\\pandas\\core\\generic.py:5516: SettingWithCopyWarning: \n",
      "A value is trying to be set on a copy of a slice from a DataFrame.\n",
      "Try using .loc[row_indexer,col_indexer] = value instead\n",
      "\n",
      "See the caveats in the documentation: https://pandas.pydata.org/pandas-docs/stable/user_guide/indexing.html#returning-a-view-versus-a-copy\n",
      "  self[name] = value\n"
     ]
    }
   ],
   "source": [
    "#df.여성_소비금액.astype('int') # 너무커서 안될때 밑의 코드사용 \n",
    "\n",
    "#df.여성_소비금액=pd.to_numeric(df['여성_소비금액'])\n",
    "#df.남성_소비금액=pd.to_numeric(df['남성_소비금액'])"
   ]
  },
  {
   "cell_type": "code",
   "execution_count": 10,
   "id": "733a3cf2",
   "metadata": {},
   "outputs": [
    {
     "name": "stderr",
     "output_type": "stream",
     "text": [
      "C:\\Users\\pc\\anaconda3\\lib\\site-packages\\pandas\\core\\generic.py:5516: SettingWithCopyWarning: \n",
      "A value is trying to be set on a copy of a slice from a DataFrame.\n",
      "Try using .loc[row_indexer,col_indexer] = value instead\n",
      "\n",
      "See the caveats in the documentation: https://pandas.pydata.org/pandas-docs/stable/user_guide/indexing.html#returning-a-view-versus-a-copy\n",
      "  self[name] = value\n"
     ]
    }
   ],
   "source": [
    "df.여성_소비금액=df.여성_소비금액.astype('int')\n",
    "df.남성_소비금액=df.남성_소비금액.astype('int')"
   ]
  },
  {
   "cell_type": "code",
   "execution_count": 14,
   "id": "40575a92",
   "metadata": {
    "scrolled": true
   },
   "outputs": [
    {
     "data": {
      "text/html": [
       "<div>\n",
       "<style scoped>\n",
       "    .dataframe tbody tr th:only-of-type {\n",
       "        vertical-align: middle;\n",
       "    }\n",
       "\n",
       "    .dataframe tbody tr th {\n",
       "        vertical-align: top;\n",
       "    }\n",
       "\n",
       "    .dataframe thead th {\n",
       "        text-align: right;\n",
       "    }\n",
       "</style>\n",
       "<table border=\"1\" class=\"dataframe\">\n",
       "  <thead>\n",
       "    <tr style=\"text-align: right;\">\n",
       "      <th></th>\n",
       "      <th>연령대</th>\n",
       "      <th>남성_소비금액</th>\n",
       "      <th>여성_소비금액</th>\n",
       "    </tr>\n",
       "  </thead>\n",
       "  <tbody>\n",
       "    <tr>\n",
       "      <th>1</th>\n",
       "      <td>20대 이하</td>\n",
       "      <td>176000000</td>\n",
       "      <td>183000000</td>\n",
       "    </tr>\n",
       "    <tr>\n",
       "      <th>2</th>\n",
       "      <td>30대</td>\n",
       "      <td>468000000</td>\n",
       "      <td>396000000</td>\n",
       "    </tr>\n",
       "    <tr>\n",
       "      <th>3</th>\n",
       "      <td>40대</td>\n",
       "      <td>742000000</td>\n",
       "      <td>410000000</td>\n",
       "    </tr>\n",
       "    <tr>\n",
       "      <th>4</th>\n",
       "      <td>50대</td>\n",
       "      <td>858000000</td>\n",
       "      <td>482000000</td>\n",
       "    </tr>\n",
       "    <tr>\n",
       "      <th>5</th>\n",
       "      <td>60대 이상</td>\n",
       "      <td>1080000000</td>\n",
       "      <td>545000000</td>\n",
       "    </tr>\n",
       "  </tbody>\n",
       "</table>\n",
       "</div>"
      ],
      "text/plain": [
       "      연령대     남성_소비금액    여성_소비금액\n",
       "1  20대 이하   176000000  183000000\n",
       "2     30대   468000000  396000000\n",
       "3     40대   742000000  410000000\n",
       "4     50대   858000000  482000000\n",
       "5  60대 이상  1080000000  545000000"
      ]
     },
     "execution_count": 14,
     "metadata": {},
     "output_type": "execute_result"
    }
   ],
   "source": [
    "df"
   ]
  },
  {
   "cell_type": "code",
   "execution_count": 16,
   "id": "2e0881ed",
   "metadata": {},
   "outputs": [
    {
     "name": "stdout",
     "output_type": "stream",
     "text": [
      "<class 'pandas.core.frame.DataFrame'>\n",
      "RangeIndex: 5 entries, 1 to 5\n",
      "Data columns (total 3 columns):\n",
      " #   Column   Non-Null Count  Dtype \n",
      "---  ------   --------------  ----- \n",
      " 0   연령대      5 non-null      object\n",
      " 1   남성_소비금액  5 non-null      int32 \n",
      " 2   여성_소비금액  5 non-null      int32 \n",
      "dtypes: int32(2), object(1)\n",
      "memory usage: 212.0+ bytes\n"
     ]
    }
   ],
   "source": [
    "df.info()"
   ]
  },
  {
   "cell_type": "code",
   "execution_count": 17,
   "id": "8335f42a",
   "metadata": {},
   "outputs": [],
   "source": [
    "df.to_csv('성연령별_소비금액_전처리.csv')"
   ]
  },
  {
   "cell_type": "code",
   "execution_count": null,
   "id": "ad82b919",
   "metadata": {},
   "outputs": [],
   "source": []
  },
  {
   "cell_type": "code",
   "execution_count": null,
   "id": "d765b550",
   "metadata": {},
   "outputs": [],
   "source": []
  }
 ],
 "metadata": {
  "kernelspec": {
   "display_name": "Python 3 (ipykernel)",
   "language": "python",
   "name": "python3"
  },
  "language_info": {
   "codemirror_mode": {
    "name": "ipython",
    "version": 3
   },
   "file_extension": ".py",
   "mimetype": "text/x-python",
   "name": "python",
   "nbconvert_exporter": "python",
   "pygments_lexer": "ipython3",
   "version": "3.9.7"
  }
 },
 "nbformat": 4,
 "nbformat_minor": 5
}
